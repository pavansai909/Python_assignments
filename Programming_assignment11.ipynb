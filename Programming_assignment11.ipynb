{
 "cells": [
  {
   "cell_type": "markdown",
   "id": "5f367532",
   "metadata": {},
   "source": [
    "## 1. Write a Python program to find words which are greater than given length k?"
   ]
  },
  {
   "cell_type": "code",
   "execution_count": 2,
   "id": "3c69984e",
   "metadata": {},
   "outputs": [
    {
     "name": "stdout",
     "output_type": "stream",
     "text": [
      "Input the length: 4\n",
      "Enter a string: My name is pavan\n",
      "['pavan']\n"
     ]
    }
   ],
   "source": [
    "def string_k(k, str):\n",
    "    string = []\n",
    "    text = str.split(\" \")\n",
    "    for x in text:\n",
    "        if len(x) > k:\n",
    "            string.append(x)\n",
    "    return string\n",
    "\n",
    "k = int(input(\"Input the length: \"))\n",
    "str = input(\"Enter a string: \")\n",
    "print(string_k(k, str))\n"
   ]
  },
  {
   "cell_type": "markdown",
   "id": "bc11dea8",
   "metadata": {},
   "source": [
    "## 2. Write a Python program for removing i-th character from a string?"
   ]
  },
  {
   "cell_type": "code",
   "execution_count": 3,
   "id": "7d790d2a",
   "metadata": {},
   "outputs": [
    {
     "name": "stdout",
     "output_type": "stream",
     "text": [
      "Enter a string: my name is pavan\n",
      "Input the character position: 5\n",
      "my nae is pavan\n"
     ]
    }
   ],
   "source": [
    "\n",
    "def remove(string, i):\n",
    "    a = string[ : i]\n",
    "    b = string[i + 1: ]\n",
    "    return a + b\n",
    "\n",
    "string = input(\"Enter a string: \")\n",
    "\n",
    "i = int(input(\"Input the character position: \"))\n",
    "print(remove(string, i))\n"
   ]
  },
  {
   "cell_type": "markdown",
   "id": "16ed908d",
   "metadata": {},
   "source": [
    "## 3. Write a Python program to split and join a string?"
   ]
  },
  {
   "cell_type": "code",
   "execution_count": 4,
   "id": "b2aaf38b",
   "metadata": {},
   "outputs": [
    {
     "name": "stdout",
     "output_type": "stream",
     "text": [
      "Enter a string: My name is pavan\n",
      "['My', 'name', 'is', 'pavan']\n",
      "My-name-is-pavan\n"
     ]
    }
   ],
   "source": [
    "def split_string(string):\n",
    "    list_string = string.split(' ')\n",
    "    return list_string\n",
    "\n",
    "def join_string(list_string):\n",
    "    string = '-'.join(list_string)\n",
    "    return string\n",
    "\n",
    "string = input(\"Enter a string: \")\n",
    "\n",
    "list_string = split_string(string)\n",
    "print(list_string)\n",
    "\n",
    "new_string = join_string(list_string)\n",
    "print(new_string)\n"
   ]
  },
  {
   "cell_type": "markdown",
   "id": "f35e6f24",
   "metadata": {},
   "source": [
    "## 4. Write a Python to check if a given string is binary string or not?"
   ]
  },
  {
   "cell_type": "code",
   "execution_count": 6,
   "id": "a23ce71e",
   "metadata": {},
   "outputs": [
    {
     "name": "stdout",
     "output_type": "stream",
     "text": [
      "Enter a string: 1111111111111\n",
      "Yes, It is binary\n"
     ]
    }
   ],
   "source": [
    "def check(string) :\n",
    "    p = set(string)\n",
    "    s = {'0', '1'}\n",
    "    if s == p or p == {'0'} or p == {'1'}:\n",
    "        print(\"Yes, It is binary\")\n",
    "    else :\n",
    "        print(\"No, It is not binary\")\n",
    "string = input(\"Enter a string: \")\n",
    "\n",
    "check(string)\n"
   ]
  },
  {
   "cell_type": "markdown",
   "id": "525c3bec",
   "metadata": {},
   "source": [
    "## 5. Write a Python program to find uncommon words from two Strings?"
   ]
  },
  {
   "cell_type": "code",
   "execution_count": 7,
   "id": "a943d827",
   "metadata": {},
   "outputs": [
    {
     "name": "stdout",
     "output_type": "stream",
     "text": [
      "Enter a string: apple banaana grapes\n",
      "Enter a string: grapes banaana rice\n",
      " apple rice\n"
     ]
    }
   ],
   "source": [
    "def uncommon(a,b):\n",
    "    list_a = a.split()\n",
    "    list_b = b.split()\n",
    "    uc = ''\n",
    "    for i in list_a:\n",
    "        if i not in list_b:\n",
    "            uc = uc+\" \"+i\n",
    "    for j in list_b:\n",
    "        if j not in list_a:\n",
    "            uc = uc+\" \"+j\n",
    "    return uc\n",
    "\n",
    "a = input(\"Enter a string: \")\n",
    "b = input(\"Enter a string: \")\n",
    "print(uncommon(a,b))\n"
   ]
  },
  {
   "cell_type": "markdown",
   "id": "c5edf994",
   "metadata": {},
   "source": [
    "## 6. Write a Python to find all duplicate characters in string?"
   ]
  },
  {
   "cell_type": "code",
   "execution_count": 1,
   "id": "b3a7f0a4",
   "metadata": {},
   "outputs": [
    {
     "name": "stdout",
     "output_type": "stream",
     "text": [
      "Enter a string :This is a programming assignment\n",
      "The duplicate elements are:  ['s', 'r', 'i', 'n', 'g', 'm', 'a', ' ']\n"
     ]
    }
   ],
   "source": [
    "def dup_char_str():\n",
    "    string = input(\"Enter a string :\")\n",
    "    lst_dup = []\n",
    "    non_lst_dup = []\n",
    "    for ele in string:\n",
    "        if ele not in non_lst_dup:\n",
    "            non_lst_dup.append(ele)\n",
    "        else:\n",
    "            lst_dup.append(ele)\n",
    "    print(\"The duplicate elements are: \",list(set(lst_dup)))\n",
    "dup_char_str()\n"
   ]
  },
  {
   "cell_type": "markdown",
   "id": "29cb7d23",
   "metadata": {},
   "source": [
    "## 7. Write a Python Program to check if a string contains any special character?"
   ]
  },
  {
   "cell_type": "code",
   "execution_count": 3,
   "id": "3b6f7f8f",
   "metadata": {},
   "outputs": [
    {
     "name": "stdout",
     "output_type": "stream",
     "text": [
      "Ënter a String :This is a new:column and there / are many |symbols%\n",
      " [':', '/', '|', '%']\n"
     ]
    }
   ],
   "source": [
    "def specialchar():\n",
    "    spl_chars = '[@_!#$%^&*()<>?/\\|}{~:]'\n",
    "    string = input(\"Ënter a String :\")\n",
    "    count = 0\n",
    "    lst = []\n",
    "    for ele in string:\n",
    "        if ele in spl_chars:\n",
    "            lst.append(ele)\n",
    "            count = count + 1\n",
    "    print(\"\",lst)\n",
    "\n",
    "specialchar()"
   ]
  },
  {
   "cell_type": "code",
   "execution_count": null,
   "id": "3ea5b224",
   "metadata": {},
   "outputs": [],
   "source": []
  }
 ],
 "metadata": {
  "kernelspec": {
   "display_name": "Python 3 (ipykernel)",
   "language": "python",
   "name": "python3"
  },
  "language_info": {
   "codemirror_mode": {
    "name": "ipython",
    "version": 3
   },
   "file_extension": ".py",
   "mimetype": "text/x-python",
   "name": "python",
   "nbconvert_exporter": "python",
   "pygments_lexer": "ipython3",
   "version": "3.9.7"
  }
 },
 "nbformat": 4,
 "nbformat_minor": 5
}
