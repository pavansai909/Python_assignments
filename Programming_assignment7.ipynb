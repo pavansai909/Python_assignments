{
 "cells": [
  {
   "cell_type": "markdown",
   "id": "f1506af9",
   "metadata": {},
   "source": [
    "## 1. Write a Python Program to find sum of array?"
   ]
  },
  {
   "cell_type": "code",
   "execution_count": 1,
   "id": "ce9960b9",
   "metadata": {},
   "outputs": [],
   "source": [
    "def arr(*n):\n",
    "    sum = 0 \n",
    "    for i in range(len(n)):\n",
    "        sum = sum + n[i]\n",
    "    return sum"
   ]
  },
  {
   "cell_type": "code",
   "execution_count": 13,
   "id": "81de3428",
   "metadata": {},
   "outputs": [
    {
     "data": {
      "text/plain": [
       "6"
      ]
     },
     "execution_count": 13,
     "metadata": {},
     "output_type": "execute_result"
    }
   ],
   "source": [
    "arr(1,2,3)"
   ]
  },
  {
   "cell_type": "markdown",
   "id": "0a6bd78b",
   "metadata": {},
   "source": [
    "## 2.Write a Python Program to find largest element in an array? "
   ]
  },
  {
   "cell_type": "code",
   "execution_count": 3,
   "id": "f4a8ab85",
   "metadata": {},
   "outputs": [
    {
     "name": "stdout",
     "output_type": "stream",
     "text": [
      "Enter the no.of Elements: 10\n",
      "5\n",
      "6\n",
      "5\n",
      "8\n",
      "9\n",
      "10\n",
      "52\n",
      "63\n",
      "25\n",
      "10\n",
      "The maximum element in the given array is : 63\n"
     ]
    }
   ],
   "source": [
    "arr = []\n",
    "n = int(input(\"Enter the no.of Elements: \"))\n",
    "\n",
    "for i in range(n):\n",
    "    elements = int(input())\n",
    "    arr.append(elements) \n",
    "\n",
    "print(\"The maximum element in the given array is :\", max(arr))\n"
   ]
  },
  {
   "cell_type": "markdown",
   "id": "08b1fc28",
   "metadata": {},
   "source": [
    "## 3.Write a Python Program for array rotation?"
   ]
  },
  {
   "cell_type": "code",
   "execution_count": 7,
   "id": "6e4f6583",
   "metadata": {},
   "outputs": [
    {
     "name": "stdout",
     "output_type": "stream",
     "text": [
      "Enter the no.of Elements: 3\n",
      "1\n",
      "2\n",
      "3\n",
      "The original array is  [1, 2, 3]\n",
      "The rotation of elements in the given array is : [3, 2, 1]\n"
     ]
    }
   ],
   "source": [
    "arr = []\n",
    "n = int(input(\"Enter the no.of Elements: \"))\n",
    "\n",
    "for i in range(n):\n",
    "    elements = int(input())\n",
    "    arr.append(elements) \n",
    "\n",
    "print(\"The original array is \", arr)\n",
    "\n",
    "print(\"The rotation of elements in the given array is :\", arr[::-1])"
   ]
  },
  {
   "cell_type": "markdown",
   "id": "77fb1c99",
   "metadata": {},
   "source": [
    "## 4. Write a Python Program to Split the array and add the first part to the end?"
   ]
  },
  {
   "cell_type": "code",
   "execution_count": 8,
   "id": "f88d915e",
   "metadata": {},
   "outputs": [
    {
     "name": "stdout",
     "output_type": "stream",
     "text": [
      "Length of array: 5\n",
      "1\n",
      "2\n",
      "3\n",
      "4\n",
      "5\n",
      "[1, 2, 3, 4, 5]\n",
      "splitted part is:  [1, 2]\n",
      "after spliting remaining array is:  [3, 4, 5]\n",
      "Final Array:  [3, 4, 5, 1, 2]\n"
     ]
    }
   ],
   "source": [
    "array = []\n",
    "size = int(input(\"Length of array: \"))\n",
    "for i in range(size):\n",
    "    elements = int(input())\n",
    "    array.append(elements)\n",
    "print(array)\n",
    "\n",
    "middle = size//2\n",
    "\n",
    "split_array = array[:middle]\n",
    "print(\"splitted part is: \",split_array)\n",
    "\n",
    "array = []\n",
    "size = int(input(\"Length of array: \"))\n",
    "for i in range(size):\n",
    "    elements = int(input())\n",
    "    array.append(elements)\n",
    "print(array)array = array[middle:]\n",
    "print(\"after spliting remaining array is: \",array)\n",
    "\n",
    "new_array = array+split_array\n",
    "print(\"Final Array: \",new_array)"
   ]
  },
  {
   "cell_type": "markdown",
   "id": "ad548c25",
   "metadata": {},
   "source": [
    "## 5. Write a Python Program to check if given array is Monotonic?"
   ]
  },
  {
   "cell_type": "code",
   "execution_count": 17,
   "id": "3395b2f5",
   "metadata": {},
   "outputs": [
    {
     "name": "stdout",
     "output_type": "stream",
     "text": [
      "Length of array: 5\n",
      "1\n",
      "6\n",
      "4\n",
      "5\n",
      "8\n",
      "[1, 6, 4, 5, 8]\n",
      "False\n"
     ]
    }
   ],
   "source": [
    "\n",
    "a = []\n",
    "size = int(input(\"Length of array: \"))\n",
    "for i in range(size):\n",
    "    elements = int(input())\n",
    "    a.append(elements)\n",
    "print(a)\n",
    "n = size\n",
    "\n",
    "if all(a[i]>=a[i+1] for i in range(0,n-1) or a[i]<=a[i+1] for i in range(0,n-1)):\n",
    "    print(True)\n",
    "else:\n",
    "    print(False)\n",
    "        \n",
    "    "
   ]
  },
  {
   "cell_type": "code",
   "execution_count": null,
   "id": "4d4aa85e",
   "metadata": {},
   "outputs": [],
   "source": []
  }
 ],
 "metadata": {
  "kernelspec": {
   "display_name": "Python 3",
   "language": "python",
   "name": "python3"
  },
  "language_info": {
   "codemirror_mode": {
    "name": "ipython",
    "version": 3
   },
   "file_extension": ".py",
   "mimetype": "text/x-python",
   "name": "python",
   "nbconvert_exporter": "python",
   "pygments_lexer": "ipython3",
   "version": "3.8.8"
  }
 },
 "nbformat": 4,
 "nbformat_minor": 5
}
