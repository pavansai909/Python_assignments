{
 "cells": [
  {
   "cell_type": "markdown",
   "id": "abe36113",
   "metadata": {},
   "source": [
    "## 1.Write a Python Program to Find LCM?"
   ]
  },
  {
   "cell_type": "code",
   "execution_count": 8,
   "id": "4c388009",
   "metadata": {},
   "outputs": [
    {
     "name": "stdout",
     "output_type": "stream",
     "text": [
      "Enter first number: 2\n",
      "Enter second number: 3\n",
      "The lcm is:  6\n"
     ]
    }
   ],
   "source": [
    "# import math\n",
    "\n",
    "# def LCMofArray(*a):\n",
    "#   lcm = a[0]\n",
    "#   for i in range(1,len(a)):\n",
    "#     lcm = lcm*a[i]//math.gcd(lcm, a[i])\n",
    "#   return lcm\n",
    "# LCMofArray(2,3,5)\n",
    "\n",
    "\n",
    "a= int(input(\"Enter first number: \"))\n",
    "b= int(input(\"Enter second number: \"))\n",
    "m = max(a,b)\n",
    "\n",
    "while True:\n",
    "    if m%a == 0 and m%b ==0:\n",
    "        break\n",
    "    m=m+1\n",
    "print(\"The lcm is: \",m)"
   ]
  },
  {
   "cell_type": "markdown",
   "id": "ff1a7c87",
   "metadata": {},
   "source": [
    "## 2. Write a Python Program to Find HCF?"
   ]
  },
  {
   "cell_type": "code",
   "execution_count": null,
   "id": "6c99d8f0",
   "metadata": {},
   "outputs": [],
   "source": [
    "def gcd(x,y):\n",
    "    if y == 0:\n",
    "        return x\n",
    "    else:\n",
    "        return gcd(y,x%y)\n",
    "x = int(input(\"Enter a number:\"))\n",
    "y = int(input(\"Enter a number:\"))\n",
    "GCD = gcd(x,y)\n",
    "print(\"The GCD is :\", GCD)\n"
   ]
  },
  {
   "cell_type": "markdown",
   "id": "dd5e227f",
   "metadata": {},
   "source": [
    "##  3. Write a Python Program to Convert Decimal to Binary, Octal and Hexadecimal?"
   ]
  },
  {
   "cell_type": "code",
   "execution_count": 9,
   "id": "2b2b3e57",
   "metadata": {},
   "outputs": [
    {
     "name": "stdout",
     "output_type": "stream",
     "text": [
      "Enter Number: 5\n",
      "Decimal to Binary:  0b101\n",
      "Decimal to Octal:  0o5\n",
      "Decimal to Hexadecimal:  0x5\n"
     ]
    }
   ],
   "source": [
    "num = int(input(\"Enter Number: \"))\n",
    "print(\"Decimal to Binary: \",bin(num))\n",
    "print(\"Decimal to Octal: \",oct(num))\n",
    "print(\"Decimal to Hexadecimal: \",hex(num))"
   ]
  },
  {
   "cell_type": "markdown",
   "id": "95bdf9c7",
   "metadata": {},
   "source": [
    "## 4. Write a Python Program To Find ASCII value of a character?"
   ]
  },
  {
   "cell_type": "code",
   "execution_count": 10,
   "id": "8aba68f3",
   "metadata": {},
   "outputs": [
    {
     "name": "stdout",
     "output_type": "stream",
     "text": [
      "Enter character: a\n"
     ]
    },
    {
     "data": {
      "text/plain": [
       "97"
      ]
     },
     "execution_count": 10,
     "metadata": {},
     "output_type": "execute_result"
    }
   ],
   "source": [
    "character = input(\"Enter character: \")\n",
    "def ascii_value(char):\n",
    "    return ord(char)\n",
    "\n",
    "ascii_value(character)"
   ]
  },
  {
   "cell_type": "markdown",
   "id": "ed1d80bf",
   "metadata": {},
   "source": [
    "## 5. Write a Python Program to Make a Simple Calculator with 4 basic mathematical operations?"
   ]
  },
  {
   "cell_type": "code",
   "execution_count": 18,
   "id": "ac565221",
   "metadata": {},
   "outputs": [],
   "source": [
    "def calculator(a,b):\n",
    "    operation = str(input(\"What operation would you like to do: \"))\n",
    "    if operation == '+' :\n",
    "        print(\"{} + {} = {}\".format(a,b,a+b))\n",
    "    elif operation == \"-\":\n",
    "        print(\"{} - {} = {}\".format(a,b,a-b))\n",
    "    elif operation == \"*\":\n",
    "        print(\"{} X {} = {}\".format(a,b,a*b))\n",
    "    elif operation == \"/\":\n",
    "        print(\"{} / {} = {}\".format(a,b,a/b))\n",
    "    else:\n",
    "        print(\"Enter correct operation\")"
   ]
  },
  {
   "cell_type": "code",
   "execution_count": 20,
   "id": "6ef3c3cf",
   "metadata": {},
   "outputs": [
    {
     "name": "stdout",
     "output_type": "stream",
     "text": [
      "What operation would you like to do: *\n",
      "5 X 6 = 30\n"
     ]
    }
   ],
   "source": [
    "calculator(5,6)"
   ]
  }
 ],
 "metadata": {
  "kernelspec": {
   "display_name": "Python 3",
   "language": "python",
   "name": "python3"
  },
  "language_info": {
   "codemirror_mode": {
    "name": "ipython",
    "version": 3
   },
   "file_extension": ".py",
   "mimetype": "text/x-python",
   "name": "python",
   "nbconvert_exporter": "python",
   "pygments_lexer": "ipython3",
   "version": "3.8.8"
  }
 },
 "nbformat": 4,
 "nbformat_minor": 5
}
