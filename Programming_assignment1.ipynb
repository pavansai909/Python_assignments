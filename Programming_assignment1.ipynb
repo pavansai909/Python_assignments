{
 "cells": [
  {
   "cell_type": "markdown",
   "id": "0216a2db",
   "metadata": {},
   "source": [
    "## 1. Write a Python program to print &quot;Hello Python&quot;?"
   ]
  },
  {
   "cell_type": "code",
   "execution_count": 2,
   "id": "4dee3f4a",
   "metadata": {},
   "outputs": [
    {
     "name": "stdout",
     "output_type": "stream",
     "text": [
      "Please Enter your statement: Hello Python\n",
      "Hello Python\n"
     ]
    }
   ],
   "source": [
    "Inputthestatement = input(\"Please Enter your statement: \")\n",
    "print(Inputthestatement)"
   ]
  },
  {
   "cell_type": "markdown",
   "id": "ad266b90",
   "metadata": {},
   "source": [
    "## 2. Write a Python program to do arithmetical operations addition and division.?"
   ]
  },
  {
   "cell_type": "code",
   "execution_count": 4,
   "id": "f9624844",
   "metadata": {},
   "outputs": [
    {
     "name": "stdout",
     "output_type": "stream",
     "text": [
      "Enter first number: 10\n",
      "Enter second number: 2\n",
      "The addition is:  12\n",
      "The division is:  5.0\n"
     ]
    }
   ],
   "source": [
    "from IPython.core.interactiveshell import InteractiveShell\n",
    "InteractiveShell.ast_node_interactivity = \"all\"\n",
    "\n",
    "a =int(input(\"Enter first number: \"))\n",
    "b =int(input(\"Enter second number: \"))\n",
    "print(\"The addition is: \",a+b)\n",
    "print(\"The division is: \",a/b)"
   ]
  },
  {
   "cell_type": "markdown",
   "id": "94403d53",
   "metadata": {},
   "source": [
    "## 3. Write a Python program to find the area of a triangle?"
   ]
  },
  {
   "cell_type": "code",
   "execution_count": 7,
   "id": "90161497",
   "metadata": {},
   "outputs": [
    {
     "name": "stdout",
     "output_type": "stream",
     "text": [
      "Please enter the base value of triangle: 10\n",
      "Please enter the height of triangle: 20\n",
      "The Area if triangle is  100.0\n"
     ]
    }
   ],
   "source": [
    "Base = int(input(\"Please enter the base value of triangle: \"))\n",
    "Height = int(input(\"Please enter the height of triangle: \"))\n",
    "print(\"The Area if triangle is \", 0.5*Base*Height)"
   ]
  },
  {
   "cell_type": "markdown",
   "id": "d4d6efcf",
   "metadata": {},
   "source": [
    "## 4.Write a Python program to swap two variables?"
   ]
  },
  {
   "cell_type": "code",
   "execution_count": 9,
   "id": "a36dde5d",
   "metadata": {},
   "outputs": [
    {
     "name": "stdout",
     "output_type": "stream",
     "text": [
      "Enter value of first variable: 10\n",
      "Enter value of second variable: 20\n",
      "The value of first after swapping: 20\n",
      "The value of second after swapping: 10\n"
     ]
    }
   ],
   "source": [
    "first = input('Enter value of first variable: ')\n",
    "second = input('Enter value of second variable: ')\n",
    "\n",
    "temp = first\n",
    "first = second\n",
    "second = temp\n",
    "\n",
    "print('The value of first after swapping: {}'.format(first))\n",
    "print('The value of second after swapping: {}'.format(second))"
   ]
  },
  {
   "cell_type": "markdown",
   "id": "09b67997",
   "metadata": {},
   "source": [
    "## 5.Write a Python program to generate a random number?"
   ]
  },
  {
   "cell_type": "code",
   "execution_count": 16,
   "id": "0e529b7b",
   "metadata": {},
   "outputs": [
    {
     "name": "stdout",
     "output_type": "stream",
     "text": [
      "Enter bottom range: 10\n",
      "Enter top range: 20\n",
      "Random number is:  18\n"
     ]
    }
   ],
   "source": [
    "import random\n",
    "first = int(input(\"Enter bottom range: \"))\n",
    "second = int(input(\"Enter top range: \"))\n",
    "print(\"Random number is: \",random.randint(first,second))\n",
    "/\n",
    "#random.random()"
   ]
  },
  {
   "cell_type": "code",
   "execution_count": null,
   "id": "aff573c7",
   "metadata": {},
   "outputs": [],
   "source": []
  }
 ],
 "metadata": {
  "kernelspec": {
   "display_name": "Python 3",
   "language": "python",
   "name": "python3"
  },
  "language_info": {
   "codemirror_mode": {
    "name": "ipython",
    "version": 3
   },
   "file_extension": ".py",
   "mimetype": "text/x-python",
   "name": "python",
   "nbconvert_exporter": "python",
   "pygments_lexer": "ipython3",
   "version": "3.8.8"
  }
 },
 "nbformat": 4,
 "nbformat_minor": 5
}
