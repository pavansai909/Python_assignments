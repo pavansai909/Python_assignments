{
 "cells": [
  {
   "cell_type": "markdown",
   "id": "63cec565",
   "metadata": {},
   "source": [
    "## 1. Write a Python Program to Display Fibonacci Sequence Using Recursion?"
   ]
  },
  {
   "cell_type": "code",
   "execution_count": 3,
   "id": "28a45287",
   "metadata": {},
   "outputs": [
    {
     "name": "stdout",
     "output_type": "stream",
     "text": [
      "Enter a number: 4\n",
      "Fibonacci sequence:\n",
      "0\n",
      "1\n",
      "1\n",
      "2\n"
     ]
    }
   ],
   "source": [
    "n = int(input(\"Enter a number: \"))\n",
    "def fib(n):\n",
    "   if n <= 1:\n",
    "       return n\n",
    "   else:\n",
    "       return(fib(n-1) + fib(n-2))\n",
    "\n",
    "    \n",
    "if n<= 0:\n",
    "   print(\"Plese enter a positive integer\")\n",
    "else:\n",
    "   print(\"Fibonacci sequence:\")\n",
    "   for i in range(n):\n",
    "       print(fib(i))"
   ]
  },
  {
   "cell_type": "markdown",
   "id": "65cdb6dd",
   "metadata": {},
   "source": [
    "## 2. Write a Python Program to Find Factorial of Number Using Recursion?"
   ]
  },
  {
   "cell_type": "code",
   "execution_count": 6,
   "id": "906b7c5f",
   "metadata": {},
   "outputs": [
    {
     "name": "stdout",
     "output_type": "stream",
     "text": [
      "Enter a number: 5\n",
      "The factorial of 5 is 120\n"
     ]
    }
   ],
   "source": [
    "n= int(input(\"Enter a number: \"))\n",
    "def fact(n):\n",
    "   if n == 1:\n",
    "       return n\n",
    "   else:\n",
    "       return n*fact(n-1)\n",
    "\n",
    "if n < 0:\n",
    "   print(\"please enter positive number\")\n",
    "elif n == 0:\n",
    "   print(\"The factorial of 0 is 1\")\n",
    "else:\n",
    "   print(\"The factorial of\", n, \"is\", fact(n))\n"
   ]
  },
  {
   "cell_type": "markdown",
   "id": "b3cb0987",
   "metadata": {},
   "source": [
    "## 3. Write a Python Program to calculate your Body Mass Index?"
   ]
  },
  {
   "cell_type": "code",
   "execution_count": 9,
   "id": "c24980d6",
   "metadata": {},
   "outputs": [
    {
     "name": "stdout",
     "output_type": "stream",
     "text": [
      "Input your height in Feet: 5.5\n",
      "Input your weight in Kilogram: 60\n",
      "Your body mass index is:  1.98\n"
     ]
    }
   ],
   "source": [
    "personheight = float(input(\"Input your height in Feet: \"))\n",
    "personweight = float(input(\"Input your weight in Kilogram: \"))\n",
    "print(\"Your body mass index is: \", round(personweight / (personheight * personheight), 2))"
   ]
  },
  {
   "cell_type": "markdown",
   "id": "39d572d1",
   "metadata": {},
   "source": [
    "## 4. Write a Python Program to calculate the natural logarithm of any number?"
   ]
  },
  {
   "cell_type": "code",
   "execution_count": 12,
   "id": "fe0d23b3",
   "metadata": {},
   "outputs": [
    {
     "name": "stdout",
     "output_type": "stream",
     "text": [
      "Enter a number: 2\n",
      "math.log(number) :  0.6931471805599453\n"
     ]
    }
   ],
   "source": [
    "import math\n",
    "n=int(input(\"Enter a number: \"))\n",
    "print (\"math.log(number) : \", math.log(n))"
   ]
  },
  {
   "cell_type": "markdown",
   "id": "75373502",
   "metadata": {},
   "source": [
    "## 5.Write a Python Program for cube sum of first n natural numbers?"
   ]
  },
  {
   "cell_type": "code",
   "execution_count": 15,
   "id": "0078c117",
   "metadata": {},
   "outputs": [
    {
     "name": "stdout",
     "output_type": "stream",
     "text": [
      "Enter a number:3\n",
      "36\n"
     ]
    }
   ],
   "source": [
    "\n",
    "def cube(n):\n",
    "    sum = 0\n",
    "    for i in range(1, n+1):\n",
    "        sum +=i*i*i\n",
    "    return sum\n",
    "\n",
    "n = int(input(\"Enter a number:\"))\n",
    "print(cube(n))\n",
    "\n",
    "\n",
    "\n",
    "# def cube(n):\n",
    "   \n",
    "#     for i in range(1, n+1):\n",
    "#         return int(((n*2) * ((n + 1 )*2))/4)\n",
    "        \n",
    "# cube(3)\n",
    "\n"
   ]
  },
  {
   "cell_type": "code",
   "execution_count": null,
   "id": "8c68e5c9",
   "metadata": {},
   "outputs": [],
   "source": []
  }
 ],
 "metadata": {
  "kernelspec": {
   "display_name": "Python 3",
   "language": "python",
   "name": "python3"
  },
  "language_info": {
   "codemirror_mode": {
    "name": "ipython",
    "version": 3
   },
   "file_extension": ".py",
   "mimetype": "text/x-python",
   "name": "python",
   "nbconvert_exporter": "python",
   "pygments_lexer": "ipython3",
   "version": "3.8.8"
  }
 },
 "nbformat": 4,
 "nbformat_minor": 5
}
